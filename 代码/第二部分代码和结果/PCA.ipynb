{
 "cells": [
  {
   "cell_type": "code",
   "execution_count": 1,
   "id": "8dd49b34-a542-498d-a9ea-66b7b0ad8235",
   "metadata": {},
   "outputs": [],
   "source": [
    "import pandas as pd  \n",
    "import numpy as np  \n",
    "from sklearn.preprocessing import StandardScaler  \n",
    "from sklearn.decomposition import PCA  \n",
    "import matplotlib.pyplot as plt  \n",
    "import seaborn as sns  \n",
    "from matplotlib import rcParams \n",
    "import joblib\n",
    "\n",
    "# 设置中文显示  \n",
    "rcParams['font.sans-serif'] = ['SimHei']  \n",
    "rcParams['axes.unicode_minus'] = False  "
   ]
  },
  {
   "cell_type": "code",
   "execution_count": 2,
   "id": "2d7c298a-73c5-4348-83ef-4610da573397",
   "metadata": {},
   "outputs": [],
   "source": [
    "# 读取数据  \n",
    "data = pd.read_csv(r\"C:\\Users\\ghc_l\\Desktop\\43final\\datause.csv\")  \n",
    "\n",
    "# 确认应变量和自变量  \n",
    "y = data['price']    \n",
    "initial_features = ['area', 'layout', 'site', 'total_height',   \n",
    "                   'toward', 'built_year', 'price_per_sqm', 'age']  \n",
    "X_initial = data[initial_features] "
   ]
  },
  {
   "cell_type": "code",
   "execution_count": 3,
   "id": "cddf51b0-e366-4947-a596-a34b0123dfc7",
   "metadata": {},
   "outputs": [
    {
     "name": "stdout",
     "output_type": "stream",
     "text": [
      "相关性矩阵：\n",
      "                   area    layout      site  total_height    toward  \\\n",
      "area           1.000000  0.747019 -0.003462      0.091229  0.187621   \n",
      "layout         0.747019  1.000000 -0.023110      0.029967  0.199039   \n",
      "site          -0.003462 -0.023110  1.000000     -0.037975 -0.035359   \n",
      "total_height   0.091229  0.029967 -0.037975      1.000000  0.123839   \n",
      "toward         0.187621  0.199039 -0.035359      0.123839  1.000000   \n",
      "built_year     0.021741  0.035812 -0.098482      0.533032  0.194916   \n",
      "price_per_sqm  0.439363  0.411331 -0.030444      0.290498  0.158511   \n",
      "age           -0.021741 -0.035812  0.098482     -0.533032 -0.194916   \n",
      "\n",
      "               built_year  price_per_sqm       age  \n",
      "area             0.021741       0.439363 -0.021741  \n",
      "layout           0.035812       0.411331 -0.035812  \n",
      "site            -0.098482      -0.030444  0.098482  \n",
      "total_height     0.533032       0.290498 -0.533032  \n",
      "toward           0.194916       0.158511 -0.194916  \n",
      "built_year       1.000000       0.282416 -1.000000  \n",
      "price_per_sqm    0.282416       1.000000 -0.282416  \n",
      "age             -1.000000      -0.282416  1.000000  \n"
     ]
    }
   ],
   "source": [
    "# 计算相关性矩阵  \n",
    "correlation_matrix = X_initial.corr()  \n",
    "print(\"相关性矩阵：\")  \n",
    "print(correlation_matrix) "
   ]
  },
  {
   "cell_type": "code",
   "execution_count": 4,
   "id": "c48d54d4-d02e-4ea3-b26f-b8e8bb7b4b67",
   "metadata": {},
   "outputs": [],
   "source": [
    "# 绘制相关性热力图  \n",
    "plt.figure(figsize=(12, 10))  \n",
    "sns.heatmap(correlation_matrix,  \n",
    "            annot=True,  \n",
    "            cmap='coolwarm',  \n",
    "            center=0,  \n",
    "            fmt='.2f',  \n",
    "            square=True)  \n",
    "plt.title('Feature Correlation Matrix')    \n",
    "plt.savefig(r'C:\\Users\\ghc_l\\Desktop\\43final\\特征相关性热力图.png',  \n",
    "            dpi=300,  \n",
    "            bbox_inches='tight')  \n",
    "plt.close() "
   ]
  },
  {
   "cell_type": "code",
   "execution_count": 5,
   "id": "3a218277-05b9-4345-9548-78c9469d4531",
   "metadata": {},
   "outputs": [],
   "source": [
    "# 选择特征（移除built_year）  \n",
    "selected_features = ['area', 'layout', 'site', 'total_height',  \n",
    "                    'toward', 'price_per_sqm', 'age']  \n",
    "X = data[selected_features] "
   ]
  },
  {
   "cell_type": "code",
   "execution_count": 6,
   "id": "9fdcd33a-4b3e-4767-b53b-628b016f69fb",
   "metadata": {},
   "outputs": [
    {
     "name": "stdout",
     "output_type": "stream",
     "text": [
      "\n",
      "标准化后的数据统计：\n",
      "               area        layout          site  total_height        toward  \\\n",
      "count  2.541000e+03  2.541000e+03  2.541000e+03  2.541000e+03  2.541000e+03   \n",
      "mean  -2.740385e-16  2.366379e-16 -3.355574e-17  6.711147e-17  1.006672e-16   \n",
      "std    1.000197e+00  1.000197e+00  1.000197e+00  1.000197e+00  1.000197e+00   \n",
      "min   -1.593543e+00 -2.340238e+00 -2.288847e+00 -2.378360e+00 -1.308024e+00   \n",
      "25%   -6.191756e-01 -2.501186e-01 -1.133970e+00 -7.414920e-01 -9.803085e-01   \n",
      "50%   -2.159889e-01 -2.501186e-01  2.090687e-02  2.213714e-01  2.837362e-03   \n",
      "75%    3.383927e-01  7.845938e-01  1.175784e+00  6.065168e-01  1.313699e+00   \n",
      "max    1.050239e+01  5.958156e+00  2.330661e+00  2.339671e+00  1.641414e+00   \n",
      "\n",
      "       price_per_sqm          age  \n",
      "count   2.541000e+03  2541.000000  \n",
      "mean   -2.796311e-18     0.000000  \n",
      "std     1.000197e+00     1.000197  \n",
      "min    -2.221575e+00    -1.459990  \n",
      "25%    -6.410715e-01    -0.897872  \n",
      "50%    -1.697747e-01    -0.335755  \n",
      "75%     5.074697e-01     0.788480  \n",
      "max     9.600762e+00     3.458537  \n"
     ]
    }
   ],
   "source": [
    "# 标准化数据  \n",
    "scaler = StandardScaler()  \n",
    "X_scaled = scaler.fit_transform(X)  \n",
    "scaled_df = pd.DataFrame(X_scaled, columns=selected_features)  \n",
    "print(\"\\n标准化后的数据统计：\")  \n",
    "print(scaled_df.describe())  "
   ]
  },
  {
   "cell_type": "code",
   "execution_count": 7,
   "id": "ac247d1e-2dd6-4b58-9219-254a14b53766",
   "metadata": {},
   "outputs": [
    {
     "name": "stdout",
     "output_type": "stream",
     "text": [
      "\n",
      "各主成分方差解释比例：\n",
      "PC1: 0.3315 (33.15%)\n",
      "PC2: 0.2186 (21.86%)\n",
      "PC3: 0.1415 (14.15%)\n",
      "PC4: 0.1280 (12.80%)\n",
      "PC5: 0.0795 (7.95%)\n",
      "PC6: 0.0658 (6.58%)\n",
      "PC7: 0.0351 (3.51%)\n",
      "\n",
      "累计方差解释比例：\n",
      "前1个主成分: 0.3315 (33.15%)\n",
      "前2个主成分: 0.5501 (55.01%)\n",
      "前3个主成分: 0.6917 (69.17%)\n",
      "前4个主成分: 0.8196 (81.96%)\n",
      "前5个主成分: 0.8992 (89.92%)\n",
      "前6个主成分: 0.9649 (96.49%)\n",
      "前7个主成分: 1.0000 (100.00%)\n"
     ]
    }
   ],
   "source": [
    "# 初始PCA分析  \n",
    "pca_initial = PCA()  \n",
    "X_pca_initial = pca_initial.fit_transform(X_scaled)  \n",
    "\n",
    "# 计算方差解释比  \n",
    "explained_variance_ratio = pca_initial.explained_variance_ratio_  \n",
    "cumulative_variance_ratio = np.cumsum(explained_variance_ratio)  \n",
    "\n",
    "print(\"\\n各主成分方差解释比例：\")  \n",
    "for i, ratio in enumerate(explained_variance_ratio, 1):  \n",
    "    print(f\"PC{i}: {ratio:.4f} ({ratio*100:.2f}%)\")  \n",
    "\n",
    "print(\"\\n累计方差解释比例：\")  \n",
    "for i, ratio in enumerate(cumulative_variance_ratio, 1):  \n",
    "    print(f\"前{i}个主成分: {ratio:.4f} ({ratio*100:.2f}%)\")  "
   ]
  },
  {
   "cell_type": "code",
   "execution_count": 8,
   "id": "e9b18259-1dc3-4678-b6c7-0d4cd2cdc113",
   "metadata": {},
   "outputs": [],
   "source": [
    "# 绘制累积方差解释率图  \n",
    "plt.figure(figsize=(10, 6))  \n",
    "plt.plot(range(1, len(explained_variance_ratio) + 1),  \n",
    "         cumulative_variance_ratio, 'bo-')  \n",
    "plt.xlabel('Number of Components')    \n",
    "plt.ylabel('Cumulative Explained Variance Ratio')    \n",
    "plt.title('PCA Cumulative Variance Ratio')    \n",
    "plt.grid(True)  \n",
    "plt.savefig(r'C:\\Users\\ghc_l\\Desktop\\43final\\主成分累积方差解释率.png',  \n",
    "            dpi=300,  \n",
    "            bbox_inches='tight')  \n",
    "plt.close() "
   ]
  },
  {
   "cell_type": "code",
   "execution_count": 9,
   "id": "c54816bf-2986-4d43-b0ac-ddf2b4e5be3d",
   "metadata": {},
   "outputs": [
    {
     "name": "stdout",
     "output_type": "stream",
     "text": [
      "\n",
      "主成分特征权重：\n",
      "                    PC1       PC2       PC3       PC4       PC5       PC6\n",
      "area           0.508696  0.379881 -0.000479 -0.092385 -0.288760  0.052150\n",
      "layout         0.497304  0.398041  0.043868 -0.053540 -0.296244 -0.181810\n",
      "site          -0.059156  0.138702 -0.973702  0.149338 -0.009103 -0.081649\n",
      "total_height   0.299525 -0.560282 -0.172886 -0.171622 -0.345655  0.634043\n",
      "toward         0.278568 -0.085773  0.102008  0.935232  0.109693  0.133931\n",
      "price_per_sqm  0.487380 -0.034586 -0.087700 -0.248664  0.825954  0.091574\n",
      "age           -0.292511  0.596277  0.044655  0.018705  0.122736  0.727479\n"
     ]
    }
   ],
   "source": [
    "# 最终PCA  \n",
    "n_components = 6  \n",
    "pca_final = PCA(n_components=n_components)  \n",
    "X_reduced = pca_final.fit_transform(X_scaled)  \n",
    "\n",
    "# 分析主成分特征权重  \n",
    "components_df = pd.DataFrame(  \n",
    "    pca_final.components_.T,  \n",
    "    columns=[f'PC{i+1}' for i in range(n_components)],  \n",
    "    index=selected_features  \n",
    ")  \n",
    "\n",
    "print(\"\\n主成分特征权重：\")  \n",
    "print(components_df) "
   ]
  },
  {
   "cell_type": "code",
   "execution_count": 10,
   "id": "3318784c-c7e2-4549-9775-dc9bd885e247",
   "metadata": {},
   "outputs": [],
   "source": [
    "# 保存主成分权重  \n",
    "components_df.to_excel(r\"C:\\Users\\ghc_l\\Desktop\\43final\\主成分含义.xlsx\")  \n",
    "\n",
    "# 绘制特征权重热力图  \n",
    "plt.figure(figsize=(10, 8))  \n",
    "sns.heatmap(components_df[['PC1', 'PC2', 'PC3']],  \n",
    "            annot=True,  \n",
    "            cmap='coolwarm',  \n",
    "            center=0,  \n",
    "            fmt='.2f')  \n",
    "plt.title('Feature Weights in Principal Components')    \n",
    "plt.savefig(r'C:\\Users\\ghc_l\\Desktop\\43final\\主成分特征权重热力图.png',  \n",
    "            dpi=300,  \n",
    "            bbox_inches='tight')  \n",
    "plt.close()  "
   ]
  },
  {
   "cell_type": "code",
   "execution_count": 14,
   "id": "cf3f26ef-b1c4-46be-8b57-4b4e53c09bfd",
   "metadata": {},
   "outputs": [],
   "source": [
    "# 创建包含price和主成分的最终数据集  \n",
    "final_df = pd.DataFrame(X_reduced, columns=[f\"PC{i+1}\" for i in range(n_components)])  \n",
    "final_df['price'] = y  # 添加price列  \n",
    "final_df.to_csv(r\"C:\\Users\\ghc_l\\Desktop\\43final\\降维后的数据.csv\",  \n",
    "                index=False,  \n",
    "                encoding='utf-8-sig') "
   ]
  },
  {
   "cell_type": "code",
   "execution_count": 16,
   "id": "c4cdac48-ac38-43c9-88a0-d148f14120aa",
   "metadata": {},
   "outputs": [],
   "source": [
    "# 为了之后进行预测，保存转换器\n",
    "# 保存标准化参数\n",
    "joblib.dump(scaler, r'C:\\Users\\ghc_l\\Desktop\\43final\\scaler.pkl')  \n",
    "# 保存PCA参数\n",
    "joblib.dump(pca_final, r'C:\\Users\\ghc_l\\Desktop\\43final\\pca_transformer.pkl')\n",
    "# 保存特征列表  \n",
    "feature_order = pd.DataFrame({'feature_names': selected_features})  \n",
    "feature_order.to_csv(r'C:\\Users\\ghc_l\\Desktop\\43final\\feature_order.csv', index=False) "
   ]
  },
  {
   "cell_type": "code",
   "execution_count": null,
   "id": "c8123aea-32dd-4f02-b22a-18cf2c36f83b",
   "metadata": {},
   "outputs": [],
   "source": []
  },
  {
   "cell_type": "code",
   "execution_count": null,
   "id": "865f5373-d832-41ae-8909-4f2cabd0a784",
   "metadata": {},
   "outputs": [],
   "source": []
  },
  {
   "cell_type": "code",
   "execution_count": null,
   "id": "e9154521-73f0-4603-b253-d9fa54908ba9",
   "metadata": {},
   "outputs": [],
   "source": []
  },
  {
   "cell_type": "code",
   "execution_count": null,
   "id": "33192003-4d4a-4aa7-9fcc-3cc94cf9a7a8",
   "metadata": {},
   "outputs": [],
   "source": []
  },
  {
   "cell_type": "code",
   "execution_count": null,
   "id": "fd684e99-c7c4-4503-b4ec-c096a16c18fc",
   "metadata": {},
   "outputs": [],
   "source": []
  }
 ],
 "metadata": {
  "kernelspec": {
   "display_name": "Python 3 (ipykernel)",
   "language": "python",
   "name": "python3"
  },
  "language_info": {
   "codemirror_mode": {
    "name": "ipython",
    "version": 3
   },
   "file_extension": ".py",
   "mimetype": "text/x-python",
   "name": "python",
   "nbconvert_exporter": "python",
   "pygments_lexer": "ipython3",
   "version": "3.11.7"
  }
 },
 "nbformat": 4,
 "nbformat_minor": 5
}
