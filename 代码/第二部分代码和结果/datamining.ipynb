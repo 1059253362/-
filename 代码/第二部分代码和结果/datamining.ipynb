{
 "cells": [
  {
   "cell_type": "code",
   "execution_count": 1,
   "id": "d55276c7-ba92-46d6-8d38-fb807609a51a",
   "metadata": {},
   "outputs": [],
   "source": [
    "import pandas as pd\n",
    "import numpy as np\n",
    "from datetime import datetime"
   ]
  },
  {
   "cell_type": "code",
   "execution_count": 2,
   "id": "e6611ed4-1ddd-4352-a301-b3da53db1244",
   "metadata": {},
   "outputs": [],
   "source": [
    "input_file = r\"C:\\Users\\ghc_l\\Desktop\\43final\\housedata.csv\"\n",
    "output_file = r\"C:\\Users\\ghc_l\\Desktop\\43final\\datause.csv\""
   ]
  },
  {
   "cell_type": "code",
   "execution_count": 3,
   "id": "9b69015a-1686-4f22-89af-db19b0a253ed",
   "metadata": {},
   "outputs": [],
   "source": [
    "# 读取原始数据\n",
    "data = pd.read_csv(input_file, encoding='utf-8', header=None)\n",
    "data = data[0].str.split(\",\", expand=True)"
   ]
  },
  {
   "cell_type": "code",
   "execution_count": 4,
   "id": "2c5f0b29-7f35-4a86-add5-fc79412356c5",
   "metadata": {},
   "outputs": [],
   "source": [
    "# 重置列名\n",
    "data.columns = [\"Community_Name\", \"price\", \"area\", \"layout\", \"site\", \"total_height\", \"toward\", \"built_year\"]\n",
    "data = data.iloc[1:]"
   ]
  },
  {
   "cell_type": "code",
   "execution_count": 5,
   "id": "fa922c43-f5de-4cb8-bede-49da01cf457e",
   "metadata": {},
   "outputs": [],
   "source": [
    "# 定义数值化\n",
    "site_map = {\"顶\": 4, \"高\": 3, \"中\": 2, \"低\": 1, \"底\": 0}\n",
    "toward_map = {\"东\": 1, \"南\": 2, \"西\": 3, \"北\": 4, \"东南\": 5, \"西南\": 6, \"东北\": 7, \"西北\": 8, \"南北\": 9, \"东西\": 10}\n",
    "layout_map = {f\"{i}室{j}厅\": i * 100 + j for i in range(0, 11) for j in range(0, 11)}"
   ]
  },
  {
   "cell_type": "code",
   "execution_count": 6,
   "id": "cd90a2c8-8c66-45e8-b548-4046acbd11c7",
   "metadata": {},
   "outputs": [],
   "source": [
    "# 数值化处理\n",
    "data[\"layout\"] = data[\"layout\"].map(layout_map)\n",
    "data[\"site\"] = data[\"site\"].map(site_map)\n",
    "data[\"toward\"] = data[\"toward\"].map(toward_map)"
   ]
  },
  {
   "cell_type": "code",
   "execution_count": 7,
   "id": "f80639f1-9ce4-4244-844f-86e5c7224d0b",
   "metadata": {},
   "outputs": [],
   "source": [
    "# 转换数值型列\n",
    "data[\"price\"] = pd.to_numeric(data[\"price\"], errors='coerce')\n",
    "data[\"area\"] = pd.to_numeric(data[\"area\"], errors='coerce')\n",
    "data[\"total_height\"] = pd.to_numeric(data[\"total_height\"], errors='coerce')"
   ]
  },
  {
   "cell_type": "code",
   "execution_count": 8,
   "id": "40aa5fe6-f5c0-4b8d-a879-29a2b4053875",
   "metadata": {},
   "outputs": [],
   "source": [
    "# 扩展\n",
    "data[\"built_year\"] = pd.to_datetime(data[\"built_year\"], errors='coerce').dt.year\n",
    "current_year = datetime.now().year\n",
    "data[\"age\"] = current_year - data[\"built_year\"]\n",
    "data[\"price_per_sqm\"] = data[\"price\"] / data[\"area\"]"
   ]
  },
  {
   "cell_type": "code",
   "execution_count": 9,
   "id": "11f4b1c1-e072-4c2f-a7dc-10a85409436e",
   "metadata": {},
   "outputs": [],
   "source": [
    "# 保存\n",
    "data.to_csv(output_file, index=False, encoding='utf-8-sig')"
   ]
  },
  {
   "cell_type": "code",
   "execution_count": 10,
   "id": "18381dd0-b36e-43f4-a890-0173e62c1953",
   "metadata": {},
   "outputs": [
    {
     "name": "stdout",
     "output_type": "stream",
     "text": [
      "\n",
      "处理后的数据预览：\n",
      "  Community_Name  price   area  layout  site  total_height  toward  \\\n",
      "1         中海寰宇天下  279.0   86.0     302     2          22.0       2   \n",
      "2         华发四季峰景  230.0   89.0     302     3          32.0       9   \n",
      "3         恒荣城市溪谷  298.0  118.0     402     1          37.0       9   \n",
      "4         正方南湾首府  235.0   99.0     402     2          32.0       9   \n",
      "5           中安广场   97.0   61.0     102     2          26.0       2   \n",
      "\n",
      "   built_year  age  price_per_sqm  \n",
      "1        2020    4       3.244186  \n",
      "2        2020    4       2.584270  \n",
      "3        2019    5       2.525424  \n",
      "4        2013   11       2.373737  \n",
      "5        2019    5       1.590164  \n",
      "\n",
      "数据基本信息：\n",
      "<class 'pandas.core.frame.DataFrame'>\n",
      "RangeIndex: 2541 entries, 1 to 2541\n",
      "Data columns (total 10 columns):\n",
      " #   Column          Non-Null Count  Dtype  \n",
      "---  ------          --------------  -----  \n",
      " 0   Community_Name  2541 non-null   object \n",
      " 1   price           2541 non-null   float64\n",
      " 2   area            2541 non-null   float64\n",
      " 3   layout          2541 non-null   int64  \n",
      " 4   site            2541 non-null   int64  \n",
      " 5   total_height    2541 non-null   float64\n",
      " 6   toward          2541 non-null   int64  \n",
      " 7   built_year      2541 non-null   int32  \n",
      " 8   age             2541 non-null   int32  \n",
      " 9   price_per_sqm   2541 non-null   float64\n",
      "dtypes: float64(4), int32(2), int64(3), object(1)\n",
      "memory usage: 178.8+ KB\n",
      "None\n"
     ]
    }
   ],
   "source": [
    "# 显示数据基本信息\n",
    "print(\"\\n处理后的数据预览：\")\n",
    "print(data.head())\n",
    "print(\"\\n数据基本信息：\")\n",
    "print(data.info())"
   ]
  },
  {
   "cell_type": "code",
   "execution_count": null,
   "id": "44ec7a51-33ea-4f16-9988-eec281dc4dcc",
   "metadata": {},
   "outputs": [],
   "source": []
  },
  {
   "cell_type": "code",
   "execution_count": null,
   "id": "25731597-2557-4e9c-b4c2-1352eff406a2",
   "metadata": {},
   "outputs": [],
   "source": []
  },
  {
   "cell_type": "code",
   "execution_count": null,
   "id": "efe0dd15-50a8-442c-8cd1-a953c700dd27",
   "metadata": {},
   "outputs": [],
   "source": []
  },
  {
   "cell_type": "code",
   "execution_count": null,
   "id": "214bedf6-14a2-4d69-99c6-04c7013d8f6f",
   "metadata": {},
   "outputs": [],
   "source": []
  },
  {
   "cell_type": "code",
   "execution_count": null,
   "id": "17858f57-f0dd-4ff9-96af-2f14c488e944",
   "metadata": {},
   "outputs": [],
   "source": []
  },
  {
   "cell_type": "code",
   "execution_count": null,
   "id": "259ab185-3bf1-46ea-89e6-35a36b8b70ac",
   "metadata": {},
   "outputs": [],
   "source": []
  },
  {
   "cell_type": "code",
   "execution_count": null,
   "id": "5d9724fd-5819-4e32-a1a5-1d79278f78b5",
   "metadata": {},
   "outputs": [],
   "source": []
  },
  {
   "cell_type": "code",
   "execution_count": null,
   "id": "d63c1610-c543-4d6c-b8f1-22af926c134f",
   "metadata": {},
   "outputs": [],
   "source": []
  },
  {
   "cell_type": "code",
   "execution_count": null,
   "id": "57de5434-5615-4f5b-b8e2-14bc9127fdda",
   "metadata": {},
   "outputs": [],
   "source": []
  },
  {
   "cell_type": "code",
   "execution_count": null,
   "id": "d59e1208-a3a0-4aee-9c6e-d1a3d9dd44ce",
   "metadata": {},
   "outputs": [],
   "source": []
  },
  {
   "cell_type": "code",
   "execution_count": null,
   "id": "fce934ce-b53f-468c-8f66-a9f5a84fc833",
   "metadata": {},
   "outputs": [],
   "source": []
  }
 ],
 "metadata": {
  "kernelspec": {
   "display_name": "Python 3 (ipykernel)",
   "language": "python",
   "name": "python3"
  },
  "language_info": {
   "codemirror_mode": {
    "name": "ipython",
    "version": 3
   },
   "file_extension": ".py",
   "mimetype": "text/x-python",
   "name": "python",
   "nbconvert_exporter": "python",
   "pygments_lexer": "ipython3",
   "version": "3.11.7"
  }
 },
 "nbformat": 4,
 "nbformat_minor": 5
}
