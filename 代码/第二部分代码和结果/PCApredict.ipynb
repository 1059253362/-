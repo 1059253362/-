{
 "cells": [
  {
   "cell_type": "code",
   "execution_count": 1,
   "id": "c7ce2808-9814-4f10-818c-c7383a56954b",
   "metadata": {},
   "outputs": [],
   "source": [
    "import pandas as pd  \n",
    "import numpy as np  \n",
    "import joblib  "
   ]
  },
  {
   "cell_type": "code",
   "execution_count": 3,
   "id": "75997066-eb06-489d-b95c-8dbd23800ecc",
   "metadata": {},
   "outputs": [],
   "source": [
    "# 加载转换器和特征顺序  \n",
    "scaler = joblib.load(r'C:\\Users\\ghc_l\\Desktop\\43final\\scaler.pkl')  \n",
    "pca_transformer = joblib.load(r'C:\\Users\\ghc_l\\Desktop\\43final\\pca_transformer.pkl')  \n",
    "feature_order = pd.read_csv(r'C:\\Users\\ghc_l\\Desktop\\43final\\feature_order.csv')['feature_names'].tolist()  "
   ]
  },
  {
   "cell_type": "code",
   "execution_count": 7,
   "id": "a16dc258-c7e7-44a9-b55f-4dcc15a236f5",
   "metadata": {},
   "outputs": [],
   "source": [
    "# 读取新数据  \n",
    "new_data_path = r\"C:\\Users\\ghc_l\\Desktop\\43final\\newhouse.csv\"   \n",
    "new_data = pd.read_csv(new_data_path) "
   ]
  },
  {
   "cell_type": "code",
   "execution_count": 9,
   "id": "b7e12e99-ffc0-4373-808b-2c0e90aa03e0",
   "metadata": {},
   "outputs": [],
   "source": [
    "# 确保特征顺序一致  \n",
    "new_data = new_data[feature_order]  "
   ]
  },
  {
   "cell_type": "code",
   "execution_count": 11,
   "id": "47677f35-9dfb-4d19-b5d8-c5214cc96aef",
   "metadata": {},
   "outputs": [],
   "source": [
    "# 应用标准化转换   \n",
    "new_data_scaled = scaler.transform(new_data)\n",
    "\n",
    "# 应用PCA转换   \n",
    "new_data_pca = pca_transformer.transform(new_data_scaled)  "
   ]
  },
  {
   "cell_type": "code",
   "execution_count": 13,
   "id": "077fed34-e559-49bc-9921-3fbcc72e7839",
   "metadata": {},
   "outputs": [],
   "source": [
    "# 将转换后的数据保存为DataFrame  \n",
    "new_data_pca_df = pd.DataFrame(  \n",
    "    new_data_pca,  \n",
    "    columns=[f\"PC{i+1}\" for i in range(new_data_pca.shape[1])]  \n",
    ")  \n",
    "\n",
    "# 保存转换后的数据  \n",
    "new_data_pca_df.to_csv(r'C:\\Users\\ghc_l\\Desktop\\43final\\newuse.csv',   \n",
    "                       index=False,  \n",
    "                       encoding='utf-8-sig')  "
   ]
  },
  {
   "cell_type": "code",
   "execution_count": null,
   "id": "cc7209ef-0ccd-4fd8-85d6-8216cec85b30",
   "metadata": {},
   "outputs": [],
   "source": []
  },
  {
   "cell_type": "code",
   "execution_count": null,
   "id": "462b36b0-f309-433d-ba16-639335cd77ac",
   "metadata": {},
   "outputs": [],
   "source": []
  }
 ],
 "metadata": {
  "kernelspec": {
   "display_name": "Python 3 (ipykernel)",
   "language": "python",
   "name": "python3"
  },
  "language_info": {
   "codemirror_mode": {
    "name": "ipython",
    "version": 3
   },
   "file_extension": ".py",
   "mimetype": "text/x-python",
   "name": "python",
   "nbconvert_exporter": "python",
   "pygments_lexer": "ipython3",
   "version": "3.11.7"
  }
 },
 "nbformat": 4,
 "nbformat_minor": 5
}
